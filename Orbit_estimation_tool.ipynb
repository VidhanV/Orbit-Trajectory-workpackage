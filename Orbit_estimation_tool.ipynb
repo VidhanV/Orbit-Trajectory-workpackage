{
 "cells": [
  {
   "cell_type": "code",
   "execution_count": 35,
   "id": "c1a11e5d",
   "metadata": {},
   "outputs": [
    {
     "data": {
      "text/html": [
       "<div>\n",
       "<style scoped>\n",
       "    .dataframe tbody tr th:only-of-type {\n",
       "        vertical-align: middle;\n",
       "    }\n",
       "\n",
       "    .dataframe tbody tr th {\n",
       "        vertical-align: top;\n",
       "    }\n",
       "\n",
       "    .dataframe thead th {\n",
       "        text-align: right;\n",
       "    }\n",
       "</style>\n",
       "<table border=\"1\" class=\"dataframe\">\n",
       "  <thead>\n",
       "    <tr style=\"text-align: right;\">\n",
       "      <th></th>\n",
       "      <th>x</th>\n",
       "      <th>y</th>\n",
       "      <th>z</th>\n",
       "      <th>vx</th>\n",
       "      <th>vy</th>\n",
       "      <th>vz</th>\n",
       "      <th>epoch</th>\n",
       "      <th>Date</th>\n",
       "    </tr>\n",
       "  </thead>\n",
       "  <tbody>\n",
       "    <tr>\n",
       "      <th>0</th>\n",
       "      <td>-4590399.00</td>\n",
       "      <td>2.171410e+06</td>\n",
       "      <td>5617088.0</td>\n",
       "      <td>0.0</td>\n",
       "      <td>0.0</td>\n",
       "      <td>0.0</td>\n",
       "      <td>1639955207</td>\n",
       "      <td>2021-12-19 23:06:47</td>\n",
       "    </tr>\n",
       "    <tr>\n",
       "      <th>1</th>\n",
       "      <td>-4281716.50</td>\n",
       "      <td>2.048645e+06</td>\n",
       "      <td>5899160.0</td>\n",
       "      <td>0.0</td>\n",
       "      <td>0.0</td>\n",
       "      <td>0.0</td>\n",
       "      <td>1639955267</td>\n",
       "      <td>2021-12-19 23:07:47</td>\n",
       "    </tr>\n",
       "    <tr>\n",
       "      <th>2</th>\n",
       "      <td>-3960114.75</td>\n",
       "      <td>1.916406e+06</td>\n",
       "      <td>6161739.0</td>\n",
       "      <td>0.0</td>\n",
       "      <td>0.0</td>\n",
       "      <td>0.0</td>\n",
       "      <td>1639955327</td>\n",
       "      <td>2021-12-19 23:08:47</td>\n",
       "    </tr>\n",
       "    <tr>\n",
       "      <th>3</th>\n",
       "      <td>-3626729.50</td>\n",
       "      <td>1.775021e+06</td>\n",
       "      <td>6403959.0</td>\n",
       "      <td>0.0</td>\n",
       "      <td>0.0</td>\n",
       "      <td>0.0</td>\n",
       "      <td>1639955387</td>\n",
       "      <td>2021-12-19 23:09:47</td>\n",
       "    </tr>\n",
       "    <tr>\n",
       "      <th>4</th>\n",
       "      <td>-3282735.75</td>\n",
       "      <td>1.624856e+06</td>\n",
       "      <td>6625017.0</td>\n",
       "      <td>0.0</td>\n",
       "      <td>0.0</td>\n",
       "      <td>0.0</td>\n",
       "      <td>1639955447</td>\n",
       "      <td>2021-12-19 23:10:47</td>\n",
       "    </tr>\n",
       "    <tr>\n",
       "      <th>...</th>\n",
       "      <td>...</td>\n",
       "      <td>...</td>\n",
       "      <td>...</td>\n",
       "      <td>...</td>\n",
       "      <td>...</td>\n",
       "      <td>...</td>\n",
       "      <td>...</td>\n",
       "      <td>...</td>\n",
       "    </tr>\n",
       "    <tr>\n",
       "      <th>650</th>\n",
       "      <td>5134539.50</td>\n",
       "      <td>-8.880351e+05</td>\n",
       "      <td>5494390.5</td>\n",
       "      <td>0.0</td>\n",
       "      <td>0.0</td>\n",
       "      <td>0.0</td>\n",
       "      <td>1639994579</td>\n",
       "      <td>2021-12-20 10:02:59</td>\n",
       "    </tr>\n",
       "    <tr>\n",
       "      <th>651</th>\n",
       "      <td>5118748.50</td>\n",
       "      <td>-8.864692e+05</td>\n",
       "      <td>5509329.0</td>\n",
       "      <td>0.0</td>\n",
       "      <td>0.0</td>\n",
       "      <td>0.0</td>\n",
       "      <td>1639994582</td>\n",
       "      <td>2021-12-20 10:03:02</td>\n",
       "    </tr>\n",
       "    <tr>\n",
       "      <th>652</th>\n",
       "      <td>4810886.00</td>\n",
       "      <td>-8.539989e+05</td>\n",
       "      <td>5784291.0</td>\n",
       "      <td>0.0</td>\n",
       "      <td>0.0</td>\n",
       "      <td>0.0</td>\n",
       "      <td>1639994639</td>\n",
       "      <td>2021-12-20 10:03:59</td>\n",
       "    </tr>\n",
       "    <tr>\n",
       "      <th>653</th>\n",
       "      <td>4471786.00</td>\n",
       "      <td>-8.142658e+05</td>\n",
       "      <td>6055077.0</td>\n",
       "      <td>0.0</td>\n",
       "      <td>0.0</td>\n",
       "      <td>0.0</td>\n",
       "      <td>1639994699</td>\n",
       "      <td>2021-12-20 10:04:59</td>\n",
       "    </tr>\n",
       "    <tr>\n",
       "      <th>654</th>\n",
       "      <td>4361371.00</td>\n",
       "      <td>-8.004934e+05</td>\n",
       "      <td>6136694.5</td>\n",
       "      <td>0.0</td>\n",
       "      <td>0.0</td>\n",
       "      <td>0.0</td>\n",
       "      <td>1639994718</td>\n",
       "      <td>2021-12-20 10:05:18</td>\n",
       "    </tr>\n",
       "  </tbody>\n",
       "</table>\n",
       "<p>655 rows × 8 columns</p>\n",
       "</div>"
      ],
      "text/plain": [
       "              x             y          z   vx   vy   vz       epoch  \\\n",
       "0   -4590399.00  2.171410e+06  5617088.0  0.0  0.0  0.0  1639955207   \n",
       "1   -4281716.50  2.048645e+06  5899160.0  0.0  0.0  0.0  1639955267   \n",
       "2   -3960114.75  1.916406e+06  6161739.0  0.0  0.0  0.0  1639955327   \n",
       "3   -3626729.50  1.775021e+06  6403959.0  0.0  0.0  0.0  1639955387   \n",
       "4   -3282735.75  1.624856e+06  6625017.0  0.0  0.0  0.0  1639955447   \n",
       "..          ...           ...        ...  ...  ...  ...         ...   \n",
       "650  5134539.50 -8.880351e+05  5494390.5  0.0  0.0  0.0  1639994579   \n",
       "651  5118748.50 -8.864692e+05  5509329.0  0.0  0.0  0.0  1639994582   \n",
       "652  4810886.00 -8.539989e+05  5784291.0  0.0  0.0  0.0  1639994639   \n",
       "653  4471786.00 -8.142658e+05  6055077.0  0.0  0.0  0.0  1639994699   \n",
       "654  4361371.00 -8.004934e+05  6136694.5  0.0  0.0  0.0  1639994718   \n",
       "\n",
       "                   Date  \n",
       "0   2021-12-19 23:06:47  \n",
       "1   2021-12-19 23:07:47  \n",
       "2   2021-12-19 23:08:47  \n",
       "3   2021-12-19 23:09:47  \n",
       "4   2021-12-19 23:10:47  \n",
       "..                  ...  \n",
       "650 2021-12-20 10:02:59  \n",
       "651 2021-12-20 10:03:02  \n",
       "652 2021-12-20 10:03:59  \n",
       "653 2021-12-20 10:04:59  \n",
       "654 2021-12-20 10:05:18  \n",
       "\n",
       "[655 rows x 8 columns]"
      ]
     },
     "metadata": {},
     "output_type": "display_data"
    }
   ],
   "source": [
    "import pandas as pd\n",
    "from datetime import datetime\n",
    "from decimal import Decimal\n",
    "columns= [\"epoch\",\"x\",\"y\",\"z\",\"vx\",\"vy\",\"vz\"]\n",
    "pos_df= pd.read_csv(r'C:\\Users\\VIVO\\Documents\\posvec_obs.csv', usecols=columns)\n",
    "date=[]\n",
    "for i in pos_df[\"epoch\"]:\n",
    "    d = datetime.utcfromtimestamp(i)\n",
    "    date.append(d)\n",
    "\n",
    "\n",
    "pos_df[\"Date\"]= date\n",
    "pos_df.dropna(inplace=True)\n",
    "display(pos_df)\n"
   ]
  },
  {
   "cell_type": "code",
   "execution_count": 36,
   "id": "1daeefe2",
   "metadata": {},
   "outputs": [],
   "source": [
    "import datetime\n",
    "orbit_epoch = datetime.datetime(2021, 12, 19)"
   ]
  },
  {
   "cell_type": "code",
   "execution_count": 21,
   "id": "aaddbd28",
   "metadata": {},
   "outputs": [
    {
     "data": {
      "text/plain": [
       "<jcc.JCCEnv at 0x15f5d2e61f0>"
      ]
     },
     "execution_count": 21,
     "metadata": {},
     "output_type": "execute_result"
    }
   ],
   "source": [
    "import orekit\n",
    "orekit.initVM()"
   ]
  },
  {
   "cell_type": "code",
   "execution_count": 4,
   "id": "08eeec64",
   "metadata": {},
   "outputs": [
    {
     "name": "stdout",
     "output_type": "stream",
     "text": [
      "Downloading file from: https://gitlab.orekit.org/orekit/orekit-data/-/archive/master/orekit-data-master.zip\n"
     ]
    }
   ],
   "source": [
    "from orekit.pyhelpers import download_orekit_data_curdir, setup_orekit_curdir\n",
    "download_orekit_data_curdir()\n",
    "setup_orekit_curdir()"
   ]
  },
  {
   "cell_type": "code",
   "execution_count": 22,
   "id": "a1e1d9cc",
   "metadata": {},
   "outputs": [],
   "source": [
    "from org.orekit.frames import FramesFactory\n",
    "from org.orekit.utils import IERSConventions\n",
    "gcrf = FramesFactory.getGCRF()\n",
    "itrf = FramesFactory.getITRF(IERSConventions.IERS_2010, False)\n",
    "eme2000 = FramesFactory.getEME2000()\n",
    "from org.orekit.time import TimeScalesFactory\n",
    "utc = TimeScalesFactory.getUTC()\n",
    "from org.orekit.models.earth import ReferenceEllipsoid\n",
    "wgs84Ellipsoid = ReferenceEllipsoid.getWgs84(itrf)\n",
    "from org.orekit.bodies import CelestialBodyFactory\n",
    "moon = CelestialBodyFactory.getMoon()\n",
    "sun = CelestialBodyFactory.getSun()\n"
   ]
  },
  {
   "cell_type": "code",
   "execution_count": 37,
   "id": "a6b775dd",
   "metadata": {},
   "outputs": [],
   "source": [
    "from org.hipparchus.geometry.euclidean.threed import Vector3D\n",
    "from orekit.pyhelpers import datetime_to_absolutedate\n",
    "from org.orekit.utils import PVCoordinates\n",
    "import math\n",
    "i = math.ceil(len(pos_df.index) / 2)\n",
    "points_for_iod = pos_df.iloc[[0, i, -1]]\n",
    "\n",
    "from org.orekit.estimation.measurements import Position\n",
    "from org.hipparchus.geometry.euclidean.threed import Vector3D\n",
    "from orekit.pyhelpers import datetime_to_absolutedate\n",
    "from org.orekit.utils import PVCoordinates\n",
    "from org.orekit.estimation.measurements import PV\n",
    "pos_1 = points_for_iod.iloc[0].to_list()\n",
    "p_vector_1 = Vector3D(float(pos_1[0]),float(pos_1[1]),float(pos_1[2]))\n",
    "v_vector_1 = Vector3D(float(pos_1[3]),float(pos_1[4]),float(pos_1[5]))\n",
    "date_1 = datetime_to_absolutedate(pos_1[7])\n",
    "tmp_pv1 = PVCoordinates(p_vector_1, v_vector_1)\n",
    "pv1 = itrf.getTransformTo(eme2000, date_1).transformPVCoordinates(tmp_pv1)\n",
    "\n",
    "pos_2 = points_for_iod.iloc[1].to_list()\n",
    "p_vector_2 = Vector3D(float(pos_2[0]),float(pos_2[1]),float(pos_2[2]))\n",
    "v_vector_2 = Vector3D(float(pos_2[3]),float(pos_2[4]),float(pos_2[5]))\n",
    "date_2 = datetime_to_absolutedate(pos_2[7])\n",
    "tmp_pv2 = PVCoordinates(p_vector_2, v_vector_2)\n",
    "pv2 = itrf.getTransformTo(eme2000, date_2).transformPVCoordinates(tmp_pv2)\n",
    "\n",
    "pos_3 = points_for_iod.iloc[2].to_list()\n",
    "p_vector_3 = Vector3D(float(pos_3[0]),float(pos_3[1]),float(pos_3[2]))\n",
    "v_vector_3 = Vector3D(float(pos_3[3]),float(pos_3[4]),float(pos_3[5]))\n",
    "date_3 = datetime_to_absolutedate(pos_3[7])\n",
    "tmp_pv3 = PVCoordinates(p_vector_3, v_vector_3)\n",
    "pv3 = itrf.getTransformTo(eme2000, date_3).transformPVCoordinates(tmp_pv3)\n"
   ]
  },
  {
   "cell_type": "code",
   "execution_count": 53,
   "id": "b73beb9b",
   "metadata": {},
   "outputs": [
    {
     "data": {
      "text/plain": [
       "<KeplerianOrbit: Keplerian parameters: {a: 7603326.970346364; e: 0.004389582346099962; i: 89.92160043012093; pa: 69.28407932315774; raan: -130.1225861495738; v: -8.883399366886712;}>"
      ]
     },
     "metadata": {},
     "output_type": "display_data"
    },
    {
     "data": {
      "text/plain": [
       "<Orbit: Cartesian parameters: {P(-2402768.931511338, -2865074.660654591, 6582417.772249749), V(4079.992238137797, 4833.654226688404, 3587.572826342154)}>"
      ]
     },
     "metadata": {},
     "output_type": "display_data"
    },
    {
     "data": {
      "text/plain": [
       "<AbsoluteDate: 2021-12-20T04:38:52.000Z>"
      ]
     },
     "metadata": {},
     "output_type": "display_data"
    }
   ],
   "source": [
    "from org.orekit.estimation.iod import IodGibbs\n",
    "from org.orekit.utils import Constants as orekit_constants\n",
    "iod_gibbs = IodGibbs(orekit_constants.EIGEN5C_EARTH_MU)\n",
    "initialOrbit = iod_gibbs.estimate(eme2000,\n",
    "                                      pv1.getPosition(), date_1,\n",
    "                                      pv2.getPosition(), date_2,\n",
    "                                      pv3.getPosition(), date_3)\n",
    "display(initialOrbit)\n",
    "initialCartOrbit = OrbitType.CARTESIAN.convertType(initialOrbit)\n",
    "display(initialCartOrbit)\n",
    "display(initialCartOrbit.getDate())"
   ]
  },
  {
   "cell_type": "code",
   "execution_count": 39,
   "id": "23858f26",
   "metadata": {},
   "outputs": [],
   "source": [
    "# Estimator parameters\n",
    "estimator_position_scale = 1.0 # m\n",
    "estimator_convergence_thres = 1e-2\n",
    "estimator_max_iterations = 50\n",
    "estimator_max_evaluations = 60\n",
    "\n",
    "# Orbit propagator parameters\n",
    "prop_min_step = 0.001 # s\n",
    "prop_max_step = 300.0 # s\n",
    "prop_position_error = 10.0 # m\n",
    "\n",
    "from org.orekit.propagation.conversion import DormandPrince853IntegratorBuilder\n",
    "integratorBuilder = DormandPrince853IntegratorBuilder(prop_min_step, prop_max_step, prop_position_error)\n",
    "\n",
    "from org.orekit.propagation.conversion import NumericalPropagatorBuilder\n",
    "from org.orekit.orbits import PositionAngle, OrbitType\n",
    "initialCartOrbit = OrbitType.CARTESIAN.convertType(initialOrbit)\n",
    "propagatorBuilder = NumericalPropagatorBuilder(initialCartOrbit,\n",
    "                                               integratorBuilder,\n",
    "                                               PositionAngle.TRUE,\n",
    "                                               estimator_position_scale)\n",
    "\n",
    "from org.orekit.forces.gravity.potential import GravityFieldFactory\n",
    "gravityProvider = GravityFieldFactory.getConstantNormalizedProvider(7, 7)\n",
    "from org.orekit.forces.gravity import HolmesFeatherstoneAttractionModel\n",
    "gravityAttractionModel = HolmesFeatherstoneAttractionModel(itrf, gravityProvider)\n",
    "propagatorBuilder.addForceModel(gravityAttractionModel)\n",
    "\n",
    "from org.hipparchus.linear import QRDecomposer\n",
    "matrix_decomposer = QRDecomposer(1e-11)\n",
    "from org.hipparchus.optim.nonlinear.vector.leastsquares import GaussNewtonOptimizer\n",
    "optimizer = GaussNewtonOptimizer(matrix_decomposer, False)\n",
    "\n",
    "from org.orekit.estimation.leastsquares import BatchLSEstimator\n",
    "estimator = BatchLSEstimator(optimizer, propagatorBuilder)\n",
    "estimator.setParametersConvergenceThreshold(estimator_convergence_thres)\n",
    "estimator.setMaxIterations(estimator_max_iterations)\n",
    "estimator.setMaxEvaluations(estimator_max_evaluations)"
   ]
  },
  {
   "cell_type": "code",
   "execution_count": 40,
   "id": "77db2d01",
   "metadata": {},
   "outputs": [],
   "source": [
    "from org.orekit.estimation.measurements import Position, ObservableSatellite\n",
    "\n",
    "observableSatellite = ObservableSatellite(0) # Propagator index = 0\n",
    "\n",
    "for index, pv_gcrf in pos_df.iterrows():\n",
    "    tmp_p = Vector3D(pv_gcrf[['x','y','z']].to_list())\n",
    "    tmp_v = Vector3D(pv_gcrf[['vx','vy','vz']].to_list())\n",
    "    tmp_pvc = PVCoordinates(tmp_p, tmp_v)\n",
    "    pvc = itrf.getTransformTo(eme2000, datetime_to_absolutedate(pv_gcrf[7])).transformPVCoordinates(tmp_pvc)\n",
    "    orekit_position = Position(\n",
    "        datetime_to_absolutedate(pv_gcrf[7]),\n",
    "        pvc.getPosition(),\n",
    "        10.0,\n",
    "        1.0,  # Base weight\n",
    "        observableSatellite\n",
    "    )\n",
    "    estimator.addMeasurement(orekit_position)\n",
    "\n",
    "estimatedPropagatorArray = estimator.estimate()"
   ]
  },
  {
   "cell_type": "code",
   "execution_count": 41,
   "id": "ff263b2d",
   "metadata": {},
   "outputs": [
    {
     "data": {
      "text/plain": [
       "<KeplerianOrbit: Keplerian parameters: {a: 7568511.494447147; e: 0.001089714945817919; i: 89.92765635355161; pa: 163.3183697447138; raan: -130.11185195418068; v: -102.91746146365297;}>"
      ]
     },
     "metadata": {},
     "output_type": "display_data"
    }
   ],
   "source": [
    "from org.orekit.orbits import KeplerianOrbit\n",
    "estimatedPropagator = estimatedPropagatorArray[0]\n",
    "estimatedInitialState = estimatedPropagator.getInitialState()\n",
    "tmp_orbit = OrbitType.KEPLERIAN.convertType(estimatedInitialState.getOrbit())\n",
    "orbit = KeplerianOrbit.cast_(tmp_orbit)\n",
    "display(orbit)"
   ]
  }
 ],
 "metadata": {
  "kernelspec": {
   "display_name": "Python 3 (ipykernel)",
   "language": "python",
   "name": "python3"
  },
  "language_info": {
   "codemirror_mode": {
    "name": "ipython",
    "version": 3
   },
   "file_extension": ".py",
   "mimetype": "text/x-python",
   "name": "python",
   "nbconvert_exporter": "python",
   "pygments_lexer": "ipython3",
   "version": "3.10.6"
  }
 },
 "nbformat": 4,
 "nbformat_minor": 5
}
